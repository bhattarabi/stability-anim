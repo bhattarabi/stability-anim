{
  "cells": [
    {
      "cell_type": "markdown",
      "metadata": {
        "id": "view-in-github",
        "colab_type": "text"
      },
      "source": [
        "<a href=\"https://colab.research.google.com/github/bhattarabi/stability-anim/blob/main/nbs/animation_gradio.ipynb\" target=\"_parent\"><img src=\"https://colab.research.google.com/assets/colab-badge.svg\" alt=\"Open In Colab\"/></a>"
      ]
    },
    {
      "cell_type": "markdown",
      "metadata": {
        "id": "tPZFjbUDTwYE"
      },
      "source": [
        "# Stable Animation notebook"
      ]
    },
    {
      "cell_type": "code",
      "execution_count": 1,
      "metadata": {
        "colab": {
          "base_uri": "https://localhost:8080/"
        },
        "id": "LUMF8i8BTwYH",
        "outputId": "0085bad7-edcc-488e-a358-320e48260343"
      },
      "outputs": [
        {
          "output_type": "stream",
          "name": "stdout",
          "text": [
            "Mounted at /content/gdrive\n",
            "Animations will be saved to /content/gdrive/MyDrive/AI/StableAnimation\n"
          ]
        }
      ],
      "source": [
        "#@title Mount Google Drive\n",
        "import os\n",
        "try:\n",
        "    from google.colab import drive\n",
        "    drive.mount('/content/gdrive')\n",
        "    outputs_path = \"/content/gdrive/MyDrive/AI/StableAnimation\"\n",
        "    os.makedirs(outputs_path, exist_ok=True)\n",
        "except:\n",
        "    outputs_path = \".\"\n",
        "print(f\"Animations will be saved to {outputs_path}\")"
      ]
    },
    {
      "cell_type": "code",
      "execution_count": null,
      "metadata": {
        "id": "tgZBrk8DTwYI"
      },
      "outputs": [],
      "source": [
        "#@title Install Animation SDK and connect to the Stability API\n",
        "%pip install stability-sdk[anim_ui]\n",
        "\n",
        "from stability_sdk.api import Context\n",
        "from stability_sdk.animation_ui import create_ui\n",
        "\n",
        "# Enter your API key from dreamstudio.ai\n",
        "STABILITY_HOST = \"grpc.stability.ai:443\" #@param {type:\"string\"}\n",
        "STABILITY_KEY = \"\" #@param {type:\"string\"}\n",
        "\n",
        "# Connect to Stability API\n",
        "api_context = Context(STABILITY_HOST, STABILITY_KEY)"
      ]
    },
    {
      "cell_type": "code",
      "execution_count": null,
      "metadata": {
        "id": "QVCAr8xcTwYI"
      },
      "outputs": [],
      "source": [
        "#@title Animation UI\n",
        "show_ui_in_notebook = True #@param {type:\"boolean\"}\n",
        "\n",
        "ui = create_ui(api_context, outputs_path)\n",
        "\n",
        "ui.queue(concurrency_count=2, max_size=2)\n",
        "ui.launch(show_api=False, debug=True, inline=show_ui_in_notebook, height=768, share=True, show_error=True)"
      ]
    },
    {
      "cell_type": "markdown",
      "source": [
        "# New Section"
      ],
      "metadata": {
        "id": "0uovElGRfEEu"
      }
    }
  ],
  "metadata": {
    "colab": {
      "provenance": [],
      "toc_visible": true,
      "include_colab_link": true
    },
    "kernelspec": {
      "display_name": "venv",
      "language": "python",
      "name": "python3"
    },
    "language_info": {
      "codemirror_mode": {
        "name": "ipython",
        "version": 3
      },
      "file_extension": ".py",
      "mimetype": "text/x-python",
      "name": "python",
      "nbconvert_exporter": "python",
      "pygments_lexer": "ipython3",
      "version": "3.9.5"
    },
    "orig_nbformat": 4,
    "vscode": {
      "interpreter": {
        "hash": "fb02550c4ef2b9a37ba5f7f381e893a74079cea154f791601856f87ae67cf67c"
      }
    }
  },
  "nbformat": 4,
  "nbformat_minor": 0
}